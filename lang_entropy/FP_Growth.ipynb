{
 "cells": [
  {
   "cell_type": "code",
   "execution_count": 1,
   "metadata": {},
   "outputs": [],
   "source": [
    "transaction_details = [['I1', 'I2', 'I5'], ['I2', 'I4'], ['I2', 'I3'], ['I1', 'I2', 'I4'], ['I1', 'I3'], ['I2', 'I3'], ['I1', 'I3'], ['I1', 'I2', 'I3', 'I5'], ['I1', 'I2', 'I3']]"
   ]
  },
  {
   "cell_type": "code",
   "execution_count": 2,
   "metadata": {},
   "outputs": [
    {
     "name": "stdout",
     "output_type": "stream",
     "text": [
      "['I1', 'I2', 'I5']\n",
      "['I2', 'I4']\n",
      "['I2', 'I3']\n",
      "['I1', 'I2', 'I4']\n",
      "['I1', 'I3']\n",
      "['I2', 'I3']\n",
      "['I1', 'I3']\n",
      "['I1', 'I2', 'I3', 'I5']\n",
      "['I1', 'I2', 'I3']\n"
     ]
    }
   ],
   "source": [
    "for trans in transaction_details:\n",
    "    print(trans)"
   ]
  },
  {
   "cell_type": "code",
   "execution_count": 3,
   "metadata": {},
   "outputs": [],
   "source": [
    "item_frequency = {}"
   ]
  },
  {
   "cell_type": "code",
   "execution_count": 4,
   "metadata": {},
   "outputs": [],
   "source": [
    "#### itemset frequency ####\n",
    "for x in transaction_details:\n",
    "    for y in x:\n",
    "        if y in item_frequency.keys():\n",
    "            item_frequency[y] = item_frequency[y] + 1\n",
    "        else:\n",
    "            item_frequency[y] = 1"
   ]
  },
  {
   "cell_type": "code",
   "execution_count": 5,
   "metadata": {},
   "outputs": [
    {
     "name": "stdout",
     "output_type": "stream",
     "text": [
      "{'I1': 6, 'I2': 7, 'I5': 2, 'I4': 2, 'I3': 6}\n"
     ]
    }
   ],
   "source": [
    "print(item_frequency)"
   ]
  },
  {
   "cell_type": "code",
   "execution_count": 13,
   "metadata": {},
   "outputs": [],
   "source": [
    "sorted_dict = {k: v for k, v in sorted(item_frequency.items(), key=lambda item: item[1], reverse=True)}"
   ]
  },
  {
   "cell_type": "code",
   "execution_count": 14,
   "metadata": {},
   "outputs": [
    {
     "name": "stdout",
     "output_type": "stream",
     "text": [
      "{'I2': 7, 'I1': 6, 'I3': 6, 'I5': 2, 'I4': 2}\n"
     ]
    }
   ],
   "source": [
    "print(sorted_dict)"
   ]
  },
  {
   "cell_type": "code",
   "execution_count": 15,
   "metadata": {},
   "outputs": [],
   "source": [
    "priority_dict = {}"
   ]
  },
  {
   "cell_type": "code",
   "execution_count": 16,
   "metadata": {},
   "outputs": [],
   "source": [
    "i = 1\n",
    "for k, v in sorted_dict.items():\n",
    "    priority_dict[k] = i\n",
    "    i = i + 1"
   ]
  },
  {
   "cell_type": "code",
   "execution_count": 17,
   "metadata": {},
   "outputs": [
    {
     "name": "stdout",
     "output_type": "stream",
     "text": [
      "{'I2': 1, 'I1': 2, 'I3': 3, 'I5': 4, 'I4': 5}\n"
     ]
    }
   ],
   "source": [
    "print(priority_dict)"
   ]
  },
  {
   "cell_type": "code",
   "execution_count": 22,
   "metadata": {},
   "outputs": [],
   "source": [
    "ordered_transaction_list = []"
   ]
  },
  {
   "cell_type": "code",
   "execution_count": 24,
   "metadata": {},
   "outputs": [],
   "source": [
    "for transactions in transaction_details:\n",
    "    inner_list = []\n",
    "    for item in transactions:\n",
    "        inner_list.append((item, priority_dict[item]))\n",
    "    ordered_transaction_list.append(sorted(inner_list, key=lambda inner_list: inner_list[1], reverse=False))"
   ]
  },
  {
   "cell_type": "code",
   "execution_count": 25,
   "metadata": {},
   "outputs": [
    {
     "data": {
      "text/plain": [
       "[[('I2', 1), ('I1', 2), ('I5', 4)],\n",
       " [('I2', 1), ('I4', 5)],\n",
       " [('I2', 1), ('I3', 3)],\n",
       " [('I2', 1), ('I1', 2), ('I4', 5)],\n",
       " [('I1', 2), ('I3', 3)],\n",
       " [('I2', 1), ('I3', 3)],\n",
       " [('I1', 2), ('I3', 3)],\n",
       " [('I2', 1), ('I1', 2), ('I3', 3), ('I5', 4)],\n",
       " [('I2', 1), ('I1', 2), ('I3', 3)]]"
      ]
     },
     "execution_count": 25,
     "metadata": {},
     "output_type": "execute_result"
    }
   ],
   "source": [
    "ordered_transaction_list"
   ]
  },
  {
   "cell_type": "code",
   "execution_count": 26,
   "metadata": {},
   "outputs": [],
   "source": [
    "class Node:\n",
    "    def __init__(self, label):\n",
    "        self.label = label\n",
    "        self.count = 1\n",
    "        self.parent = None\n",
    "        self.childerns = []"
   ]
  },
  {
   "cell_type": "code",
   "execution_count": 27,
   "metadata": {},
   "outputs": [],
   "source": [
    "FP_head = Node('ROOT')"
   ]
  },
  {
   "cell_type": "code",
   "execution_count": null,
   "metadata": {},
   "outputs": [],
   "source": []
  }
 ],
 "metadata": {
  "kernelspec": {
   "display_name": "Python 3",
   "language": "python",
   "name": "python3"
  },
  "language_info": {
   "codemirror_mode": {
    "name": "ipython",
    "version": 3
   },
   "file_extension": ".py",
   "mimetype": "text/x-python",
   "name": "python",
   "nbconvert_exporter": "python",
   "pygments_lexer": "ipython3",
   "version": "3.7.8"
  }
 },
 "nbformat": 4,
 "nbformat_minor": 4
}
