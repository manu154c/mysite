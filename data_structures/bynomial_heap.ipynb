{
 "cells": [
  {
   "cell_type": "code",
   "execution_count": 1,
   "metadata": {},
   "outputs": [],
   "source": [
    "data_list = [10, 15, 28, 19, 35, 8, 5, 29, 31, 13, 12, 17, 28, 35, 40, 45]"
   ]
  },
  {
   "cell_type": "code",
   "execution_count": 2,
   "metadata": {},
   "outputs": [],
   "source": [
    "class Node:\n",
    "    \n",
    "    def __init__(self, value):\n",
    "        \n",
    "        self.value = value\n",
    "        self.degree = 0\n",
    "        self.left_most_child = None\n",
    "        self.parent = None\n",
    "        self.right_sibling = None\n",
    "        \n",
    "    def set_value(self, value):\n",
    "        \n",
    "        self.value = value\n",
    "        \n",
    "        return True\n",
    "    \n",
    "    def get_value(self):\n",
    "        \n",
    "        return self.value\n",
    "    \n",
    "    def set_degree(self, degree):\n",
    "        \n",
    "        self.degree = degree\n",
    "        \n",
    "        return True\n",
    "    \n",
    "    def get_degree(self):\n",
    "        \n",
    "        return self.degree\n",
    "        \n",
    "    def set_child(self, addr):\n",
    "        \n",
    "        self.left_most_child = addr\n",
    "        \n",
    "        return True\n",
    "    \n",
    "    def get_child(self):\n",
    "        \n",
    "        return self.left_most_child\n",
    "    \n",
    "    def set_parent(self, addr):\n",
    "        \n",
    "        self.parent = addr\n",
    "        \n",
    "        return True\n",
    "    \n",
    "    def get_parent(self):\n",
    "        \n",
    "        return self.parent\n",
    "    \n",
    "    def set_sibling(self, addr):\n",
    "        \n",
    "        self.right_sibling = addr\n",
    "        \n",
    "        return True\n",
    "    \n",
    "    def get_sibling(self):\n",
    "        \n",
    "        return self.right_sibling"
   ]
  },
  {
   "cell_type": "code",
   "execution_count": 3,
   "metadata": {},
   "outputs": [],
   "source": [
    "class BinomialHeap:\n",
    "    \n",
    "    def __init__(self, head):\n",
    "        self.head = head\n",
    "        self.root_dict = {}\n",
    "        self.min_node = None\n",
    "        self.no_of_nodes = 0\n",
    "    \n",
    "    def insert(self, node):\n",
    "        if self.head.right_sibling == None:\n",
    "            new_node = node\n",
    "            self.root_dict[0] = new_node\n",
    "            self.head.right_sibling = new_node\n",
    "        else:\n",
    "            new_node = node\n",
    "            first_root = self.head.right_sibling\n",
    "            self.head.right_sibling = new_node\n",
    "            new_node.right_sibling = first_root\n",
    "            self.heapify_by_union()            \n",
    "        \n",
    "        return True\n",
    "    \n",
    "    def heapify_by_union(self):\n",
    "        current_node = self.head.right_sibling\n",
    "        prev_node = self.head\n",
    "        while(current_node.right_sibling != None):\n",
    "            if (current_node.degree != current_node.right_sibling.degree) or (current_node.right_sibling.right_sibling != None) and (current_node.degree == current_node.right_sibling.right_sibling.degree):\n",
    "                prev_node = current_node\n",
    "                current_node = current_node.right_sibling\n",
    "            else:\n",
    "                next_node = current_node.right_sibling\n",
    "                if current_node.value < current_node.right_sibling.value:\n",
    "                    current_node.right_sibling = next_node.right_sibling\n",
    "                    next_node.right_sibling = current_node.left_most_child\n",
    "                    current_node.left_most_child = next_node\n",
    "                    current_node.degree += 1\n",
    "                else:\n",
    "                    if prev_node == self.head:\n",
    "                        self.head.right_sibling = next_node\n",
    "                    else:\n",
    "                        prev_node.right_sibling = next_node\n",
    "                    \n",
    "                    current_node.right_sibling = next_node.left_most_child\n",
    "                    next_node.left_most_child = current_node\n",
    "                    next_node.degree += 1\n",
    "                    current_node = next_node\n",
    "        return True\n",
    "    \n",
    "    def display_root(self):\n",
    "        current_node = self.head.right_sibling\n",
    "        if current_node != None:\n",
    "            while(current_node.right_sibling != None):\n",
    "                print(current_node.value)\n",
    "                print(current_node.degree)\n",
    "                current_node = current_node.right_sibling\n",
    "                \n",
    "            if current_node.right_sibling == None:\n",
    "                print(current_node.value)\n",
    "            \n",
    "        return True"
   ]
  },
  {
   "cell_type": "code",
   "execution_count": 4,
   "metadata": {},
   "outputs": [],
   "source": [
    "head = Node('head')\n",
    "b1 = BinomialHeap(head)"
   ]
  },
  {
   "cell_type": "code",
   "execution_count": 5,
   "metadata": {},
   "outputs": [
    {
     "name": "stdout",
     "output_type": "stream",
     "text": [
      "10\n",
      "15\n",
      "28\n",
      "19\n",
      "35\n",
      "8\n",
      "5\n",
      "29\n",
      "31\n",
      "13\n",
      "12\n",
      "17\n",
      "28\n",
      "35\n",
      "40\n",
      "45\n"
     ]
    }
   ],
   "source": [
    "for i in data_list: # till 7 nodes is right. recursive merging is not working now 27-10-2020 8:35.\n",
    "    new_node = Node(i)\n",
    "    print(new_node.value)\n",
    "    b1.insert(new_node)"
   ]
  },
  {
   "cell_type": "code",
   "execution_count": 11,
   "metadata": {},
   "outputs": [
    {
     "data": {
      "text/plain": [
       "17"
      ]
     },
     "execution_count": 11,
     "metadata": {},
     "output_type": "execute_result"
    }
   ],
   "source": [
    "b1.head.right_sibling.left_most_child.left_most_child.right_sibling.right_sibling.value # 13"
   ]
  },
  {
   "cell_type": "code",
   "execution_count": 10,
   "metadata": {},
   "outputs": [
    {
     "data": {
      "text/plain": [
       "10"
      ]
     },
     "execution_count": 10,
     "metadata": {},
     "output_type": "execute_result"
    }
   ],
   "source": [
    "b1.head.right_sibling.left_most_child.right_sibling.value # 10"
   ]
  },
  {
   "cell_type": "code",
   "execution_count": 9,
   "metadata": {},
   "outputs": [
    {
     "data": {
      "text/plain": [
       "28"
      ]
     },
     "execution_count": 9,
     "metadata": {},
     "output_type": "execute_result"
    }
   ],
   "source": [
    "b1.head.right_sibling.left_most_child.right_sibling.left_most_child.left_most_child.value # 28"
   ]
  },
  {
   "cell_type": "code",
   "execution_count": 8,
   "metadata": {},
   "outputs": [
    {
     "data": {
      "text/plain": [
       "29"
      ]
     },
     "execution_count": 8,
     "metadata": {},
     "output_type": "execute_result"
    }
   ],
   "source": [
    "b1.head.right_sibling.left_most_child.right_sibling.right_sibling.right_sibling.value # 29"
   ]
  },
  {
   "cell_type": "code",
   "execution_count": 7,
   "metadata": {},
   "outputs": [],
   "source": [
    "b1.head.right_sibling.left_most_child.left_most_child.right_sibling.right_sibling.right_sibling\n",
    "# head -> 5 -> 12 -> 17 -> 28 -> 13 -> None"
   ]
  },
  {
   "cell_type": "code",
   "execution_count": 6,
   "metadata": {},
   "outputs": [
    {
     "name": "stdout",
     "output_type": "stream",
     "text": [
      "5\n"
     ]
    },
    {
     "data": {
      "text/plain": [
       "True"
      ]
     },
     "execution_count": 6,
     "metadata": {},
     "output_type": "execute_result"
    }
   ],
   "source": [
    "b1.display_root()"
   ]
  },
  {
   "cell_type": "code",
   "execution_count": null,
   "metadata": {},
   "outputs": [],
   "source": []
  }
 ],
 "metadata": {
  "kernelspec": {
   "display_name": "Python 3",
   "language": "python",
   "name": "python3"
  },
  "language_info": {
   "codemirror_mode": {
    "name": "ipython",
    "version": 3
   },
   "file_extension": ".py",
   "mimetype": "text/x-python",
   "name": "python",
   "nbconvert_exporter": "python",
   "pygments_lexer": "ipython3",
   "version": "3.7.8"
  }
 },
 "nbformat": 4,
 "nbformat_minor": 4
}
