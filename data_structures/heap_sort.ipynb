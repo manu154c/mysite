{
 "cells": [
  {
   "cell_type": "code",
   "execution_count": 1,
   "metadata": {},
   "outputs": [],
   "source": [
    "data_list = [10, 15, 28, 19, 35, 8, 5, 29, 31, 13, 12, 17, 28, 35, 40, 45]"
   ]
  },
  {
   "cell_type": "code",
   "execution_count": 2,
   "metadata": {},
   "outputs": [],
   "source": [
    "class Node:\n",
    "    \n",
    "    def __init__(self, val):\n",
    "        self.value = val\n",
    "        self.parent = None\n",
    "        self.l_child = None\n",
    "        self.r_child = None\n",
    "        \n",
    "        \n",
    "    def set_value(self, val):\n",
    "        self.value = val\n",
    "        return True\n",
    "    \n",
    "    def get_value(self):\n",
    "        return self.value\n",
    "    \n",
    "    def set_parent(self, addr):\n",
    "        self.parent = addr\n",
    "        return True\n",
    "    \n",
    "    def get_parent(self):\n",
    "        return self.parent\n",
    "    \n",
    "    def set_l_child(self, addr):\n",
    "        self.l_child = addr\n",
    "        return True\n",
    "    \n",
    "    def get_l_child(self):\n",
    "        return self.l_child\n",
    "    \n",
    "    def set_r_child(self, addr):\n",
    "        self.r_child = addr\n",
    "        return True\n",
    "    \n",
    "    def get_r_child(self):\n",
    "        return self.r_child"
   ]
  },
  {
   "cell_type": "code",
   "execution_count": 13,
   "metadata": {},
   "outputs": [],
   "source": [
    "class Heap:\n",
    "    \n",
    "    def __init__(self, root_addr):\n",
    "        self.root = root_addr\n",
    "        self.length = 1\n",
    "        self.last_node = root_addr\n",
    "        \n",
    "    def insert_to_last_position(self, node):\n",
    "        print(node.value)\n",
    "        if self.last_node.l_child == None:\n",
    "            self.last_node.l_child = node\n",
    "        else:\n",
    "            self.last_node.r_child = node\n",
    "            \n",
    "        self.heapify(self.last_node)\n",
    "        self.length += 1\n",
    "        return True\n",
    "    \n",
    "    def heapify(self, node):\n",
    "        r = -1000\n",
    "        l = -1000\n",
    "        max_node = node\n",
    "        max_val = node.value\n",
    "        if node.r_child:\n",
    "            r = node.r_child.value\n",
    "        if node.l_child:\n",
    "            l = node.l_child.value\n",
    "        \n",
    "        if max_val > r:\n",
    "            max_node = node\n",
    "        else:\n",
    "            max_node = node.r_child\n",
    "            \n",
    "        if max_node.value > l: #swap node with max_node\n",
    "            if max_node == node:\n",
    "                pass\n",
    "            else:\n",
    "                #swap node with r_child\n",
    "                self.swap_parent_with_child(node, node.r_child)\n",
    "        else:\n",
    "            #swap node with l_child\n",
    "            self.swap_parent_with_child(node, node.l_child)\n",
    "            \n",
    "        return True\n",
    "    \n",
    "    def swap_parent_with_child(self, parent, child):\n",
    "        #swap the following way\n",
    "        #1. temp = parent\n",
    "        temp_val = parent.value\n",
    "        #2. parent = child\n",
    "        parent.value = child.value\n",
    "        #3. child = temp\n",
    "        child.value = temp_val\n",
    "        return True\n",
    "    \n",
    "    def tree_traversal(self, node):\n",
    "        if node == None:\n",
    "            return\n",
    "        \n",
    "        self.tree_traversal(node.l_child)\n",
    "        print(node.value)\n",
    "        self.tree_traversal(node.r_child)\n",
    "            \n",
    "        return True"
   ]
  },
  {
   "cell_type": "code",
   "execution_count": 14,
   "metadata": {},
   "outputs": [],
   "source": [
    "root = Node(data_list[0])"
   ]
  },
  {
   "cell_type": "code",
   "execution_count": 15,
   "metadata": {},
   "outputs": [],
   "source": [
    "h1 = Heap(root)"
   ]
  },
  {
   "cell_type": "code",
   "execution_count": 16,
   "metadata": {},
   "outputs": [
    {
     "data": {
      "text/plain": [
       "10"
      ]
     },
     "execution_count": 16,
     "metadata": {},
     "output_type": "execute_result"
    }
   ],
   "source": [
    "h1.root.value"
   ]
  },
  {
   "cell_type": "code",
   "execution_count": 17,
   "metadata": {},
   "outputs": [
    {
     "name": "stdout",
     "output_type": "stream",
     "text": [
      "15\n",
      "28\n",
      "19\n",
      "35\n",
      "8\n",
      "5\n",
      "29\n",
      "31\n",
      "13\n",
      "12\n",
      "17\n",
      "28\n",
      "35\n",
      "40\n",
      "45\n"
     ]
    }
   ],
   "source": [
    "for i in data_list[1:]:\n",
    "    new_node = Node(i)\n",
    "    h1.insert_to_last_position(new_node)"
   ]
  },
  {
   "cell_type": "code",
   "execution_count": 8,
   "metadata": {},
   "outputs": [
    {
     "name": "stdout",
     "output_type": "stream",
     "text": [
      "10\n",
      "45\n",
      "40\n"
     ]
    },
    {
     "data": {
      "text/plain": [
       "True"
      ]
     },
     "execution_count": 8,
     "metadata": {},
     "output_type": "execute_result"
    }
   ],
   "source": [
    "h1.tree_traversal(root)"
   ]
  },
  {
   "cell_type": "code",
   "execution_count": 9,
   "metadata": {},
   "outputs": [
    {
     "data": {
      "text/plain": [
       "45"
      ]
     },
     "execution_count": 9,
     "metadata": {},
     "output_type": "execute_result"
    }
   ],
   "source": [
    "h1.root.value"
   ]
  },
  {
   "cell_type": "code",
   "execution_count": 10,
   "metadata": {},
   "outputs": [
    {
     "data": {
      "text/plain": [
       "10"
      ]
     },
     "execution_count": 10,
     "metadata": {},
     "output_type": "execute_result"
    }
   ],
   "source": [
    "h1.root.l_child.value"
   ]
  },
  {
   "cell_type": "code",
   "execution_count": 11,
   "metadata": {},
   "outputs": [
    {
     "data": {
      "text/plain": [
       "40"
      ]
     },
     "execution_count": 11,
     "metadata": {},
     "output_type": "execute_result"
    }
   ],
   "source": [
    "h1.root.r_child.value"
   ]
  },
  {
   "cell_type": "code",
   "execution_count": 12,
   "metadata": {},
   "outputs": [
    {
     "ename": "AttributeError",
     "evalue": "'NoneType' object has no attribute 'value'",
     "output_type": "error",
     "traceback": [
      "\u001b[0;31m---------------------------------------------------------------------------\u001b[0m",
      "\u001b[0;31mAttributeError\u001b[0m                            Traceback (most recent call last)",
      "\u001b[0;32m<ipython-input-12-62c2f5396c69>\u001b[0m in \u001b[0;36m<module>\u001b[0;34m()\u001b[0m\n\u001b[0;32m----> 1\u001b[0;31m \u001b[0mh1\u001b[0m\u001b[0;34m.\u001b[0m\u001b[0mroot\u001b[0m\u001b[0;34m.\u001b[0m\u001b[0ml_child\u001b[0m\u001b[0;34m.\u001b[0m\u001b[0ml_child\u001b[0m\u001b[0;34m.\u001b[0m\u001b[0mvalue\u001b[0m\u001b[0;34m\u001b[0m\u001b[0;34m\u001b[0m\u001b[0m\n\u001b[0m",
      "\u001b[0;31mAttributeError\u001b[0m: 'NoneType' object has no attribute 'value'"
     ]
    }
   ],
   "source": [
    "h1.root.l_child.l_child.value"
   ]
  },
  {
   "cell_type": "code",
   "execution_count": 18,
   "metadata": {},
   "outputs": [
    {
     "ename": "AttributeError",
     "evalue": "'NoneType' object has no attribute 'value'",
     "output_type": "error",
     "traceback": [
      "\u001b[0;31m---------------------------------------------------------------------------\u001b[0m",
      "\u001b[0;31mAttributeError\u001b[0m                            Traceback (most recent call last)",
      "\u001b[0;32m<ipython-input-18-1c8d70009f1d>\u001b[0m in \u001b[0;36m<module>\u001b[0;34m()\u001b[0m\n\u001b[0;32m----> 1\u001b[0;31m \u001b[0mh1\u001b[0m\u001b[0;34m.\u001b[0m\u001b[0mroot\u001b[0m\u001b[0;34m.\u001b[0m\u001b[0ml_child\u001b[0m\u001b[0;34m.\u001b[0m\u001b[0mr_child\u001b[0m\u001b[0;34m.\u001b[0m\u001b[0mvalue\u001b[0m\u001b[0;34m\u001b[0m\u001b[0;34m\u001b[0m\u001b[0m\n\u001b[0m",
      "\u001b[0;31mAttributeError\u001b[0m: 'NoneType' object has no attribute 'value'"
     ]
    }
   ],
   "source": [
    "h1.root.l_child.r_child.value"
   ]
  }
 ],
 "metadata": {
  "kernelspec": {
   "display_name": "Python 3",
   "language": "python",
   "name": "python3"
  },
  "language_info": {
   "codemirror_mode": {
    "name": "ipython",
    "version": 3
   },
   "file_extension": ".py",
   "mimetype": "text/x-python",
   "name": "python",
   "nbconvert_exporter": "python",
   "pygments_lexer": "ipython3",
   "version": "3.7.8"
  }
 },
 "nbformat": 4,
 "nbformat_minor": 4
}
